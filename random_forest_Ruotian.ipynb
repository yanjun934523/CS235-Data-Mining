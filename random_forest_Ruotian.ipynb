{
 "cells": [
  {
   "cell_type": "code",
   "execution_count": 12,
   "id": "aaa6e7ec",
   "metadata": {},
   "outputs": [],
   "source": [
    "from sklearn.datasets import load_iris\n",
    "from sklearn.decomposition import PCA\n",
    "import pandas as pd\n",
    "import numpy as np\n",
    "import matplotlib.pyplot as plt\n",
    "import seaborn as sns\n",
    "from random import seed\n",
    "from random import randrange\n",
    "from sklearn.preprocessing import LabelEncoder \n",
    "from sklearn.model_selection import KFold\n",
    "from sklearn.metrics import confusion_matrix\n",
    "from numpy import random\n",
    "import seaborn as sns\n",
    "random.seed(1)\n",
    "np.random.seed(1)\n",
    "#Given a data point expressed by the numerical features of our dataset (which describe a given breast mass), classify that data point into one of two classes (malignant or benign)\n",
    "bcw=pd.read_csv('data.csv')\n",
    "\n",
    "# data cleaning : do not chose ID column\n",
    "df=bcw.loc[:,\"diagnosis\":\"fractal_dimension_worst\"]\n",
    "# data normalization \n",
    "df_normalized=(df.iloc[:,1:31]-df.iloc[:,1:31].mean())/(df.iloc[:,1:31].std())\n",
    "df_normalized.insert(30,\"diagnosis\",bcw.loc[:,\"diagnosis\"])\n",
    "#print(df_normalized.head())\n",
    "\n",
    "y=df_normalized.iloc[:,-1]\n",
    "le = LabelEncoder() # label transformation into 1 or 0\n",
    "y = le.fit_transform(y) # Malignant transfer into 1 and Benign tranfer into 0\n",
    "x=df_normalized.iloc[:,0:df_normalized.shape[1]-1]\n",
    "x=x.to_numpy()\n",
    "df_numpy=np.concatenate((x, y.reshape(1, -1).T), axis=1)\n",
    "#print(df_numpy)\n",
    "def get_xy(data):\n",
    "    y=data.iloc[:,-1]\n",
    "    le=LabelEncoder()\n",
    "    y=le.fit_transform(y)\n",
    "    x=data.iloc[:,0:data.shape[1]-1]\n",
    "    x=x.to_numpy()\n",
    "    return x,y\n",
    "    "
   ]
  },
  {
   "cell_type": "markdown",
   "id": "63d64d76",
   "metadata": {},
   "source": [
    "# Data Reduction by PCA\n",
    "By PCA method, I can find the first 10 components can explain 95% variance. We can reduce this dataset from 30 to 10 dimensions. "
   ]
  },
  {
   "cell_type": "code",
   "execution_count": 13,
   "id": "1fe5fc7b",
   "metadata": {},
   "outputs": [
    {
     "data": {
      "image/png": "[encoded data removed]",
      "text/plain": [
       "<Figure size 640x480 with 1 Axes>"
      ]
     },
     "metadata": {},
     "output_type": "display_data"
    },
    {
     "data": {
      "text/plain": [
       "None"
      ]
     },
     "metadata": {},
     "output_type": "display_data"
    },
    {
     "data": {
      "text/html": [
       "<div>\n",
       "<style scoped>\n",
       "    .dataframe tbody tr th:only-of-type {\n",
       "        vertical-align: middle;\n",
       "    }\n",
       "\n",
       "    .dataframe tbody tr th {\n",
       "        vertical-align: top;\n",
       "    }\n",
       "\n",
       "    .dataframe thead th {\n",
       "        text-align: right;\n",
       "    }\n",
       "</style>\n",
       "<table border=\"1\" class=\"dataframe\">\n",
       "  <thead>\n",
       "    <tr style=\"text-align: right;\">\n",
       "      <th></th>\n",
       "      <th>Cumulative Variance Ratio</th>\n",
       "      <th>Explained Variance Ratio</th>\n",
       "    </tr>\n",
       "  </thead>\n",
       "  <tbody>\n",
       "    <tr>\n",
       "      <th>0</th>\n",
       "      <td>0.436764</td>\n",
       "      <td>0.436764</td>\n",
       "    </tr>\n",
       "    <tr>\n",
       "      <th>1</th>\n",
       "      <td>0.625006</td>\n",
       "      <td>0.188243</td>\n",
       "    </tr>\n",
       "    <tr>\n",
       "      <th>2</th>\n",
       "      <td>0.728709</td>\n",
       "      <td>0.103702</td>\n",
       "    </tr>\n",
       "    <tr>\n",
       "      <th>3</th>\n",
       "      <td>0.795143</td>\n",
       "      <td>0.066435</td>\n",
       "    </tr>\n",
       "    <tr>\n",
       "      <th>4</th>\n",
       "      <td>0.849359</td>\n",
       "      <td>0.054215</td>\n",
       "    </tr>\n",
       "    <tr>\n",
       "      <th>5</th>\n",
       "      <td>0.890853</td>\n",
       "      <td>0.041494</td>\n",
       "    </tr>\n",
       "    <tr>\n",
       "      <th>6</th>\n",
       "      <td>0.914234</td>\n",
       "      <td>0.023381</td>\n",
       "    </tr>\n",
       "    <tr>\n",
       "      <th>7</th>\n",
       "      <td>0.932970</td>\n",
       "      <td>0.018737</td>\n",
       "    </tr>\n",
       "    <tr>\n",
       "      <th>8</th>\n",
       "      <td>0.946927</td>\n",
       "      <td>0.013956</td>\n",
       "    </tr>\n",
       "    <tr>\n",
       "      <th>9</th>\n",
       "      <td>0.957794</td>\n",
       "      <td>0.010868</td>\n",
       "    </tr>\n",
       "    <tr>\n",
       "      <th>10</th>\n",
       "      <td>0.966804</td>\n",
       "      <td>0.009009</td>\n",
       "    </tr>\n",
       "    <tr>\n",
       "      <th>11</th>\n",
       "      <td>0.974115</td>\n",
       "      <td>0.007311</td>\n",
       "    </tr>\n",
       "    <tr>\n",
       "      <th>12</th>\n",
       "      <td>0.980189</td>\n",
       "      <td>0.006074</td>\n",
       "    </tr>\n",
       "    <tr>\n",
       "      <th>13</th>\n",
       "      <td>0.984296</td>\n",
       "      <td>0.004107</td>\n",
       "    </tr>\n",
       "    <tr>\n",
       "      <th>14</th>\n",
       "      <td>0.987275</td>\n",
       "      <td>0.002979</td>\n",
       "    </tr>\n",
       "  </tbody>\n",
       "</table>\n",
       "</div>"
      ],
      "text/plain": [
       "    Cumulative Variance Ratio  Explained Variance Ratio\n",
       "0                    0.436764                  0.436764\n",
       "1                    0.625006                  0.188243\n",
       "2                    0.728709                  0.103702\n",
       "3                    0.795143                  0.066435\n",
       "4                    0.849359                  0.054215\n",
       "5                    0.890853                  0.041494\n",
       "6                    0.914234                  0.023381\n",
       "7                    0.932970                  0.018737\n",
       "8                    0.946927                  0.013956\n",
       "9                    0.957794                  0.010868\n",
       "10                   0.966804                  0.009009\n",
       "11                   0.974115                  0.007311\n",
       "12                   0.980189                  0.006074\n",
       "13                   0.984296                  0.004107\n",
       "14                   0.987275                  0.002979"
      ]
     },
     "metadata": {},
     "output_type": "display_data"
    }
   ],
   "source": [
    "random.seed(1)\n",
    "np.random.seed(1)\n",
    "# normalized data which is normal and center. \n",
    "df_pca=df_normalized.copy(deep=False)\n",
    "df_pca['is_train'] = np.random.uniform(0, 1, len(df))<= .50\n",
    "df_train, df_test = df_pca[df_pca['is_train']==True], df_pca[df_pca['is_train']==False]\n",
    "\n",
    "# data reduction by PCA\n",
    "features=df_pca.columns[0:30]\n",
    "x=df_train[features]\n",
    "pca = PCA(n_components = 30)\n",
    "X_pca = pca.fit_transform(x)\n",
    "X_pca = pd.DataFrame(X_pca)\n",
    "#np.cumsum(pca.explained_variance_ratio_)\n",
    "sns.set(style='whitegrid')\n",
    "plt.plot(np.cumsum(pca.explained_variance_ratio_)) \n",
    "plt.xlabel('Number of PC components') \n",
    "plt.ylabel('Cumulative Explained Variance') \n",
    "plt.axvline(linewidth=3, color='orange', linestyle = '--', x=10, ymin=0, ymax=1) \n",
    "display(plt.show())\n",
    "\n",
    "# When pc=15, those PCs can explain 98% variance\n",
    "evr = pca.explained_variance_ratio_ \n",
    "cvr = np.cumsum(pca.explained_variance_ratio_)\n",
    "pca_df = pd.DataFrame() \n",
    "pca_df['Cumulative Variance Ratio'] = cvr \n",
    "pca_df['Explained Variance Ratio'] = evr \n",
    "display(pca_df.head(15)) \n",
    "\n",
    "# find pca x when pc=10 and construst train and test PCA dataset\n",
    "le=LabelEncoder()\n",
    "train_y=le.fit_transform(df_train.iloc[:,-2])\n",
    "test_y=le.fit_transform(df_test.iloc[:,-2])\n",
    "pca_10 = PCA(n_components=10) \n",
    "pca_10.fit(df_train[features])\n",
    "X_train_pca10 = pca_10.transform(df_train[features]) \n",
    "train_pca10=np.concatenate((X_train_pca10, train_y.reshape(1, -1).T), axis=1)\n",
    "X_test_pca10 = pca_10.transform(df_test[features]) \n",
    "test_pca10=np.concatenate((X_test_pca10, test_y.reshape(1, -1).T), axis=1)\n",
    "\n",
    "# combine pca train and test set and transfer it into pd.dataframe\n",
    "data_pca=np.vstack((train_pca10,test_pca10))\n",
    "data_pca=pd.DataFrame(data_pca)"
   ]
  },
  {
   "cell_type": "code",
   "execution_count": 16,
   "id": "72963f04",
   "metadata": {},
   "outputs": [],
   "source": [
    "random.seed(1)\n",
    "np.random.seed(1)\n",
    "def entropy(df_label):\n",
    "    # count how many counts for 0 and 1 by using bincount\n",
    "    counts=np.bincount(df_label)\n",
    "    prob=counts/len(df_label)\n",
    "    entropy=-np.sum([p*np.log2(p) for p in prob if p > 0])\n",
    "    return entropy\n",
    "\n",
    "def information_gain(parent, left_label, right_label):\n",
    "    left_entropy=entropy(left_label)\n",
    "    right_entropy=entropy(right_label)\n",
    "    parent_entropy=entropy(parent)\n",
    "    info_gain=parent_entropy-(left_entropy*np.sum(left_label)/len(left_label)+right_entropy*np.sum(right_label)/len(right_label))\n",
    "    return info_gain\n",
    "\n",
    "# X is the dataset with only feature and y is outcome lable of X dataset\n",
    "def find_best_split(dataset,n_features):\n",
    "    # to get input x and outcome y and transfer y to be intger in order to for using bincount funtion.  \n",
    "    X=dataset[:,:-1]\n",
    "    y=dataset[:,-1].astype(int)\n",
    "    #y=le.fit_transform(y)\n",
    "    best_feature = None\n",
    "    best_threshold = None\n",
    "    best_info_gain = float(\"inf\")\n",
    "    best_split = {}\n",
    "    best_info_gain = -1\n",
    "    # go through each features and each thresholds value in dataset to find best split.   \n",
    "    for feature_id in range(n_features): #feature_id_set\n",
    "        feature_values = X[:, feature_id]\n",
    "        thresholds = np.unique(feature_values)\n",
    "        for threshold in thresholds:\n",
    "            parent = np.concatenate((X, y.reshape(1, -1).T), axis=1)\n",
    "            # go through each row in parent to get left child and right child\n",
    "            left_child = np.array([row for row in parent if row[feature_id] <= threshold])\n",
    "            right_child = np.array([row for row in parent if row[feature_id] > threshold])\n",
    "            left_indices = np.where(feature_values <= threshold)[0]\n",
    "            right_indices = np.where(feature_values > threshold)[0]\n",
    "            # to make sure left child and right child are not empty sets\n",
    "            if len(left_child) >0 and len(right_child) > 0:\n",
    "                left_labels = y[left_indices]\n",
    "                right_labels = y[right_indices]\n",
    "                info_gain = information_gain(y, left_labels, right_labels)\n",
    "                if info_gain > best_info_gain:\n",
    "                    best_split = {\n",
    "                            'feature_id': feature_id,\n",
    "                            'best_threshold': threshold,\n",
    "                            'left_child': left_child,\n",
    "                            'right_child': right_child,\n",
    "                            'best_info_gain': info_gain\n",
    "                    }\n",
    "                    best_info_gain=info_gain\n",
    "    return best_split\n",
    "\n",
    "def split(node, max_depth, min_size, n_features,depth):\n",
    "    left = node['left_child']\n",
    "    right = node ['right_child']\n",
    "    left=list(left)\n",
    "    right=list(right)\n",
    "    del(node['left_child'],node['right_child'])\n",
    "    # check whether there is a no split or not\n",
    "    if not left or not right:\n",
    "        total=left+right\n",
    "        node['left'] = node['right'] = max([row[-1] for row in total],key=[row[-1] for row in total].count)\n",
    "        return\n",
    "    # check whether it is max depth in the tree or not\n",
    "    if depth >= max_depth:\n",
    "        node['left'] = max([row[-1] for row in left],key=[row[-1] for row in left].count)\n",
    "        node['right'] = max([row[-1] for row in right],key=[row[-1] for row in right].count)\n",
    "        return\n",
    "    # go through left child\n",
    "    if len(left) <= min_size:\n",
    "        node['left'] = max([row[-1] for row in left],key=[row[-1] for row in left].count)\n",
    "    else:\n",
    "        new_left=np.array(left)\n",
    "        node['left'] = find_best_split(new_left,n_features)\n",
    "        split(node['left'], max_depth, min_size,n_features, depth+1)\n",
    "    # go through right child\n",
    "    if len(right) <= min_size:\n",
    "        node['right'] = max([row[-1] for row in right],key=[row[-1] for row in right].count)\n",
    "    else:\n",
    "        new_right=np.array(right)\n",
    "        node['right'] = find_best_split(new_right,n_features)\n",
    "        split(node['right'], max_depth, min_size,n_features, depth+1) \n",
    "\n",
    "\n",
    "# build a decision tree\n",
    "def build_tree(train, max_depth, min_size, n_features):\n",
    "    root = find_best_split(train,n_features)\n",
    "    split(root, max_depth, min_size,n_features,1)\n",
    "    return root\n",
    "\n",
    "def predict(trees, row):\n",
    "    pred=[]\n",
    "    for tree in trees:\n",
    "        node=tree\n",
    "        while isinstance(node,dict):\n",
    "            if row[node[\"feature_id\"]]<node[\"best_threshold\"]:\n",
    "                node=node[\"left\"]\n",
    "            else:\n",
    "                node=node[\"right\"]\n",
    "        pred.append(node)\n",
    "    return max(set(pred),key=pred.count),pred\n",
    "\n",
    "\n",
    "\n",
    "# in here train and test should be modified as a numpy array or matrix\n",
    "def random_forest(train,test,max_depth, min_size, n_features,sample_frac,n_trees):\n",
    "    trees_result=list()\n",
    "    train=pd.DataFrame(train)\n",
    "    test=pd.DataFrame(test)\n",
    "    test=test.to_numpy()\n",
    "    # go through each tree and save the result in trees result list\n",
    "    for i in range(n_trees):\n",
    "        sample=train.sample(frac=sample_frac,replace=True)\n",
    "        sample=sample.to_numpy()\n",
    "        tree=build_tree(sample,max_depth,min_size,n_features)\n",
    "        trees_result.append(tree)\n",
    "    pred=[]\n",
    "    each_tree_decision=[]\n",
    "    for row in test:\n",
    "        result=predict(trees_result,row)\n",
    "        pred.append(result[0])\n",
    "        each_tree_decision.append(result[1])\n",
    "        \n",
    "    return pred,each_tree_decision\n",
    "\n",
    "def cv_computation(k,data,max_depth, min_size, n_features,sample_frac,n_trees):\n",
    "    kfold = KFold(n_splits=k,  shuffle=True,  random_state=1)\n",
    "    Precision_result=np.empty(shape=(k))\n",
    "    Recall_result=np.empty(shape=(k))\n",
    "    F1_result=np.empty(shape=(k))\n",
    "    Accuracy_result=np.empty(shape=(k))\n",
    "    confusion_matrix_list=np.empty(shape=(k,2,2))\n",
    "    for i, (train_id, test_id) in enumerate(kfold.split(data)):\n",
    "        train_set=data.loc[train_id,:]\n",
    "        train_x,train_y=get_xy(train_set)\n",
    "        train_numpy=np.concatenate((train_x, train_y.reshape(1, -1).T), axis=1)\n",
    "        \n",
    "        test_set=data.loc[test_id,:]\n",
    "        test_x,test_y=get_xy(test_set)\n",
    "        test_numpy=np.concatenate((test_x, test_y.reshape(1, -1).T), axis=1)\n",
    "        # find pred by random forest \n",
    "        pred=random_forest(train_numpy,test_numpy,max_depth, min_size, n_features,sample_frac,n_trees)[0]\n",
    "        #print(pred)\n",
    "        y_true=list(test_y)\n",
    "        y_pred=pred\n",
    "        confusion_mat=confusion_matrix(y_true,y_pred)\n",
    "        #print(type(confusion_mat))\n",
    "        confusion_matrix_list[i]=confusion_mat\n",
    "        # Precision\n",
    "        Precision=confusion_mat[0,0]/confusion_mat.sum(axis=1)[0]\n",
    "        Precision_result[i]=Precision\n",
    "        #print(\"Precision is\",Precision)\n",
    "        # Recall\n",
    "        #print(confusion_matrix.sum(axis=0)[0])\n",
    "        Recall=confusion_mat[0,0]/confusion_mat.sum(axis=0)[0]\n",
    "        Recall_result[i]=Recall\n",
    "        #print(\"Recall is\",Recall)\n",
    "        # F1 score, F1=1 is best, F1=0 is worst\n",
    "        F1=(2*Precision*Recall)/(Precision+Recall)\n",
    "        F1_result[i]=F1\n",
    "        # Accuracy\n",
    "        Acc=(confusion_mat[0,0]+confusion_mat[1,1])/np.sum(confusion_mat)\n",
    "        Accuracy_result[i]=Acc\n",
    "        \n",
    "    avg_Precision=np.mean(Precision_result)\n",
    "    avg_Recall=np.mean(Recall_result)\n",
    "    avg_F1=np.mean(F1_result)\n",
    "    avg_Acc=np.mean(Accuracy_result)\n",
    "    return avg_Precision,avg_Recall,avg_F1,avg_Acc,Precision_result,Recall_result,F1_result,Accuracy_result,confusion_matrix_list\n",
    "        \n"
   ]
  },
  {
   "cell_type": "markdown",
   "id": "af9f22f5",
   "metadata": {},
   "source": [
    "# Hyperparameter Tuning in Random Forest\n",
    "In this model, I need to tun 4 variables which are number of trees(n_trees), the large number of split for each trees, the minumum size of leaf(min_size)  and number of features (n_features). Cross validation is 3 folds (k=3) and the proportion of sample we used in training is 50%(sample_frac=0.5) are fixed. I will not discuss those in tuning. We can find the best average accuracy in 3-fold cv is 0.9455 and its parameter are: max_depth=2, min_size=5, n_features=20 and n_trees=5.\n",
    "\n",
    "Apparently, I can find the max_depth, n_features and n_trees larger which is better.Since it has higher accuacy and lower variance from error bar plot below. \n",
    "\n",
    "P.S. Those parameters may not be a good choice, since I only try 3*3*3*3=81 ways of tuning, but it take a very long running time to see the result for my computer. "
   ]
  },
  {
   "cell_type": "code",
   "execution_count": 52,
   "id": "f765fc45",
   "metadata": {},
   "outputs": [],
   "source": [
    "random.seed(1)\n",
    "np.random.seed(1)\n",
    "\n",
    "max_depth_set=[2,3,4]\n",
    "min_size_set=[5,10,15]\n",
    "n_features_set=[10,15,20]\n",
    "n_trees_set=[5,10,20]\n",
    "avg_acc=np.empty(shape=(3,3,3,3))\n",
    "# Tuning the hyperparameter \n",
    "for i in range(len(max_depth_set)):\n",
    "    for j in range(len(min_size_set)):\n",
    "        for m in range(len(n_features_set)):\n",
    "            for n in range(len(n_trees_set)):\n",
    "                avg_acc[i,j,m,n]=cv_computation(k=3,data=df_normalized,\n",
    "                                                max_depth=max_depth_set[i],\n",
    "                                                min_size=min_size_set[j],\n",
    "                                                n_features=n_features_set[m],\n",
    "                                                sample_frac=0.5,\n",
    "                                                n_trees=n_trees_set[n])[3]"
   ]
  },
  {
   "cell_type": "code",
   "execution_count": 59,
   "id": "2da14929",
   "metadata": {},
   "outputs": [
    {
     "name": "stdout",
     "output_type": "stream",
     "text": [
      "The best accuracy location is (array([0], dtype=int64), array([0], dtype=int64), array([2], dtype=int64), array([0], dtype=int64))\n",
      "The best accuracy is 0.9068040471549242\n"
     ]
    }
   ],
   "source": [
    "print(\"The best accuracy location is\",np.where(avg_acc==np.max(avg_acc)))\n",
    "print(\"The best accuracy is\",avg_acc[0,0,2,0])"
   ]
  },
  {
   "cell_type": "code",
   "execution_count": 55,
   "id": "70e9c93b",
   "metadata": {},
   "outputs": [
    {
     "data": {
      "image/png": "[encoded data removed]",
      "text/plain": [
       "<Figure size 640x480 with 1 Axes>"
      ]
     },
     "metadata": {},
     "output_type": "display_data"
    }
   ],
   "source": [
    "x=[\"max_depth_2\",\"max_depth_3\",\"max_depth_4\"]\n",
    "max_depth_2=np.mean(avg_acc[0,:,:,:])\n",
    "max_depth_2_sd=np.std(avg_acc[0,:,:,:])\n",
    "max_depth_3=np.mean(avg_acc[1,:,:,:])\n",
    "max_depth_3_sd=np.std(avg_acc[1,:,:,:])\n",
    "max_depth_4=np.mean(avg_acc[2,:,:,:])\n",
    "max_depth_4_sd=np.std(avg_acc[2,:,:,:])\n",
    "\n",
    "\n",
    "CTEs = [max_depth_2,max_depth_3,max_depth_4]\n",
    "error = [max_depth_2_sd,max_depth_3_sd,max_depth_4_sd]\n",
    "x_pos = np.arange(len(x))\n",
    "fig, ax = plt.subplots()\n",
    "ax.bar(x_pos, CTEs, yerr=error, align='center', alpha=0.5, ecolor='black', capsize=10)\n",
    "ax.set_ylabel('Accuracy')\n",
    "ax.set_xticks(x_pos)\n",
    "ax.set_xticklabels(x)\n",
    "ax.set_title('Accuracy of max_depth in RF')\n",
    "ax.yaxis.grid(True)\n",
    "\n",
    "# Save the figure and show\n",
    "plt.tight_layout()\n",
    "#plt.savefig('bar_plot_with_error_bars.png')\n",
    "plt.show()"
   ]
  },
  {
   "cell_type": "code",
   "execution_count": 56,
   "id": "4bae6b19",
   "metadata": {},
   "outputs": [
    {
     "data": {
      "image/png": "[encoded data removed]",
      "text/plain": [
       "<Figure size 640x480 with 1 Axes>"
      ]
     },
     "metadata": {},
     "output_type": "display_data"
    }
   ],
   "source": [
    "x=[\"min_size_5\",\"min_size_10\",\"min_size_15\"]\n",
    "max_depth_2=np.mean(avg_acc[:,0,:,:])\n",
    "max_depth_2_sd=np.std(avg_acc[:,0,:,:])\n",
    "max_depth_3=np.mean(avg_acc[:,1,:,:])\n",
    "max_depth_3_sd=np.std(avg_acc[:,1,:,:])\n",
    "max_depth_4=np.mean(avg_acc[:,2,:,:])\n",
    "max_depth_4_sd=np.std(avg_acc[:,2,:,:])\n",
    "\n",
    "\n",
    "CTEs = [max_depth_2,max_depth_3,max_depth_4]\n",
    "error = [max_depth_2_sd,max_depth_3_sd,max_depth_4_sd]\n",
    "x_pos = np.arange(len(x))\n",
    "fig, ax = plt.subplots()\n",
    "ax.bar(x_pos, CTEs, yerr=error, align='center', alpha=0.5, ecolor='black', capsize=10)\n",
    "ax.set_ylabel('Accuracy')\n",
    "ax.set_xticks(x_pos)\n",
    "ax.set_xticklabels(x)\n",
    "ax.set_title('Accuracy of min_size in RF')\n",
    "ax.yaxis.grid(True)\n",
    "\n",
    "# Save the figure and show\n",
    "plt.tight_layout()\n",
    "#plt.savefig('bar_plot_with_error_bars.png')\n",
    "plt.show()"
   ]
  },
  {
   "cell_type": "code",
   "execution_count": 57,
   "id": "acd498c5",
   "metadata": {},
   "outputs": [
    {
     "data": {
      "image/png": "[encoded data removed]",
      "text/plain": [
       "<Figure size 640x480 with 1 Axes>"
      ]
     },
     "metadata": {},
     "output_type": "display_data"
    }
   ],
   "source": [
    "x=[\"n_features_10\",\"n_features_15\",\"n_features_20\"]\n",
    "max_depth_2=np.mean(avg_acc[:,:,0,:])\n",
    "max_depth_2_sd=np.std(avg_acc[:,:,0,:])\n",
    "max_depth_3=np.mean(avg_acc[:,:,1,:])\n",
    "max_depth_3_sd=np.std(avg_acc[:,:,1,:])\n",
    "max_depth_4=np.mean(avg_acc[:,:,2,:])\n",
    "max_depth_4_sd=np.std(avg_acc[:,:,2,:])\n",
    "\n",
    "\n",
    "CTEs = [max_depth_2,max_depth_3,max_depth_4]\n",
    "error = [max_depth_2_sd,max_depth_3_sd,max_depth_4_sd]\n",
    "x_pos = np.arange(len(x))\n",
    "fig, ax = plt.subplots()\n",
    "ax.bar(x_pos, CTEs, yerr=error, align='center', alpha=0.5, ecolor='black', capsize=10)\n",
    "ax.set_ylabel('Accuracy')\n",
    "ax.set_xticks(x_pos)\n",
    "ax.set_xticklabels(x)\n",
    "ax.set_title('Accuracy of n_feature in RF')\n",
    "ax.yaxis.grid(True)\n",
    "\n",
    "# Save the figure and show\n",
    "plt.tight_layout()\n",
    "#plt.savefig('bar_plot_with_error_bars.png')\n",
    "plt.show()"
   ]
  },
  {
   "cell_type": "code",
   "execution_count": 58,
   "id": "a740327b",
   "metadata": {},
   "outputs": [
    {
     "data": {
      "image/png": "[encoded data removed]",
      "text/plain": [
       "<Figure size 640x480 with 1 Axes>"
      ]
     },
     "metadata": {},
     "output_type": "display_data"
    }
   ],
   "source": [
    "x=[\"n_trees_10\",\"n_trees_15\",\"n_trees_20\"]\n",
    "max_depth_2=np.mean(avg_acc[:,:,:,0])\n",
    "max_depth_2_sd=np.std(avg_acc[:,:,:,0])\n",
    "max_depth_3=np.mean(avg_acc[:,:,:,1])\n",
    "max_depth_3_sd=np.std(avg_acc[:,:,:,1])\n",
    "max_depth_4=np.mean(avg_acc[:,:,:,2])\n",
    "max_depth_4_sd=np.std(avg_acc[:,:,:,2])\n",
    "\n",
    "\n",
    "CTEs = [max_depth_2,max_depth_3,max_depth_4]\n",
    "error = [max_depth_2_sd,max_depth_3_sd,max_depth_4_sd]\n",
    "x_pos = np.arange(len(x))\n",
    "fig, ax = plt.subplots()\n",
    "ax.bar(x_pos, CTEs, yerr=error, align='center', alpha=0.5, ecolor='black', capsize=10)\n",
    "ax.set_ylabel('Accuracy')\n",
    "ax.set_xticks(x_pos)\n",
    "ax.set_xticklabels(x)\n",
    "ax.set_title('Accuracy of n_tree in RF')\n",
    "ax.yaxis.grid(True)\n",
    "\n",
    "# Save the figure and show\n",
    "plt.tight_layout()\n",
    "#plt.savefig('bar_plot_with_error_bars.png')\n",
    "plt.show()"
   ]
  },
  {
   "cell_type": "markdown",
   "id": "3e444c95",
   "metadata": {},
   "source": [
    "# Random Forest in reality data\n",
    "In cancer data, we can find the precision is 0.971,recall is 0.867, F1 is 0.916 and accuracy is 0.889 when we only have 5 trees 20 features and training sample porpotion is 0.5. \n",
    "\n",
    "We also want to see if data reduction by PCA, how does the result change? Remember, We has reduce the dimension from 30 to 10 which has around 95% in the variation. I have create a pca data called data_pca and run it in our random forest model. Since it only has 10 dimension of feature, we cannot chose 20 for n_features. Hence I want to use n_feature=10 instead to compare result with data reduction and without data dareduction in random forest model. \n"
   ]
  },
  {
   "cell_type": "code",
   "execution_count": 20,
   "id": "eb592e0e",
   "metadata": {},
   "outputs": [
    {
     "name": "stdout",
     "output_type": "stream",
     "text": [
      "The average of precision in 3 fold cv is 0.971869662081008\n",
      "The average of recall in 3 fold cv is 0.8677125629261994\n",
      "The average of F1 in 3 fold cv is 0.9166204295688111\n",
      "The average of accuracy in 3 fold cv is 0.8892509050403787\n"
     ]
    }
   ],
   "source": [
    "random.seed(1)\n",
    "np.random.seed(1)\n",
    "k=3\n",
    "result_data=cv_computation(k=k,data=df_normalized,max_depth=4,min_size=15,n_features=20,sample_frac=0.5,n_trees=5)\n",
    "result_data\n",
    "print(\"The average of precision in\",k,\"fold cv is\",result_data[0])\n",
    "print(\"The average of recall in\",k,\"fold cv is\",result_data[1])\n",
    "print(\"The average of F1 in\",k,\"fold cv is\",result_data[2])\n",
    "print(\"The average of accuracy in\",k,\"fold cv is\",result_data[3])"
   ]
  },
  {
   "cell_type": "markdown",
   "id": "50131435",
   "metadata": {},
   "source": [
    "Comparing the two dataset results, I can find the PCA does not have a better result than the orginal dataset. PCA has a smaller precision which is 97% and original dataset has 98% precision. It has good precision to predict a result who is benigm, but there is a very bad recall which only 77%. which means if we predict 100 patients are benign, only 77 patients are really benign and 23 patient are maligant but we mark them are benign. When we find PCA's F1, which is 0.86 smaller than 0.92. \n",
    "\n",
    "Hence, PCA is not well. I think one of the reason is that, when we use PCA to do data reduction, some infomation is lost and it will reduce the model's interpretation. "
   ]
  },
  {
   "cell_type": "code",
   "execution_count": 21,
   "id": "d174b1fd",
   "metadata": {},
   "outputs": [
    {
     "name": "stdout",
     "output_type": "stream",
     "text": [
      "The average of precision in 3 fold cv is 0.986052086997582\n",
      "The average of recall in 3 fold cv is 0.8650846332558912\n",
      "The average of F1 in 3 fold cv is 0.9214775277687385\n",
      "The average of accuracy in 3 fold cv is 0.8945047804696928\n"
     ]
    }
   ],
   "source": [
    "random.seed(1)\n",
    "np.random.seed(1)\n",
    "k=3\n",
    "result_data=cv_computation(k=k,data=df_normalized,max_depth=4,min_size=15,n_features=10,sample_frac=0.5,n_trees=5)\n",
    "result_data\n",
    "print(\"The average of precision in\",k,\"fold cv is\",result_data[0])\n",
    "print(\"The average of recall in\",k,\"fold cv is\",result_data[1])\n",
    "print(\"The average of F1 in\",k,\"fold cv is\",result_data[2])\n",
    "print(\"The average of accuracy in\",k,\"fold cv is\",result_data[3])"
   ]
  },
  {
   "cell_type": "code",
   "execution_count": 22,
   "id": "426079a3",
   "metadata": {},
   "outputs": [
    {
     "name": "stdout",
     "output_type": "stream",
     "text": [
      "The average of precision in 3 fold cv is 0.9780268072950999\n",
      "The average of recall in 3 fold cv is 0.7743933482149298\n",
      "The average of F1 in 3 fold cv is 0.8635757411913131\n",
      "The average of accuracy in 3 fold cv is 0.806720504966119\n"
     ]
    }
   ],
   "source": [
    "random.seed(1)\n",
    "np.random.seed(1)\n",
    "k=3\n",
    "result_pca=cv_computation(k=k,data=data_pca,max_depth=4,min_size=15,n_features=10,sample_frac=0.5,n_trees=5)\n",
    "result_pca\n",
    "print(\"The average of precision in\",k,\"fold cv is\",result_pca[0])\n",
    "print(\"The average of recall in\",k,\"fold cv is\",result_pca[1])\n",
    "print(\"The average of F1 in\",k,\"fold cv is\",result_pca[2])\n",
    "print(\"The average of accuracy in\",k,\"fold cv is\",result_pca[3])"
   ]
  },
  {
   "cell_type": "markdown",
   "id": "588d149f",
   "metadata": {},
   "source": [
    "# Decision Tree in Correctness Data\n",
    "(1)\n",
    "In Implementation correctness we have 17 datapoints and 2 features. \n",
    "In one decision tree method, the tree select feature one firstly amd then select feature two secondly. The reason we choose the order like that because in feature has a larger infomation gain which will be choosed firstly. \n",
    "(2)\n",
    "The feature split value is chose which is 8.5 and the second feature split value is 7.405. Those values are chosen because when we split this thresthold value, we will get the larger infomation gain. \n",
    "\n",
    "This is the reason we create find_best_split function to find split value and feature which has the largest infomation gain. "
   ]
  },
  {
   "cell_type": "code",
   "execution_count": 23,
   "id": "1a24b8b8",
   "metadata": {},
   "outputs": [
    {
     "data": {
      "text/plain": [
       "{'feature_id': 0,\n",
       " 'best_threshold': 8.5,\n",
       " 'best_info_gain': -0.15445724182297282,\n",
       " 'left': {'feature_id': 0,\n",
       "  'best_threshold': 7.405,\n",
       "  'best_info_gain': -0.170101453739689,\n",
       "  'left': 1.0,\n",
       "  'right': 1.0},\n",
       " 'right': 1.0}"
      ]
     },
     "execution_count": 23,
     "metadata": {},
     "output_type": "execute_result"
    }
   ],
   "source": [
    "random.seed(1)\n",
    "np.random.seed(1)\n",
    "# implementation correctness\n",
    "correct_data=pd.read_csv('implementation_correctness_dataset.csv')\n",
    "build_tree(correct_data.to_numpy(), max_depth=2, min_size=1, n_features=2)"
   ]
  },
  {
   "cell_type": "markdown",
   "id": "2e41052c",
   "metadata": {},
   "source": [
    "# Random Forest in Correctness Data\n",
    "clarify: By LabelEncoder(),label transformation into 1 or 0, 1 represent class 2 and 0 represent class 1\n",
    "(1)\n",
    "In the random forest method, basical it is very simliar as the decision tree. When we create a tree, we will use decision tree to create a tree. In here I use n_trees=10 which means I create 10 trees and run buil_tree 10 times and split the data 10 times and then random forest will collect each trees final result to make decision for prediction. In ths example below, I have 10 trees all same result which are 0 (class 1). Finally, random forest predict it as class 1. \n",
    "(2)\n",
    "In 20 trees, most of predictions are class 1 when we input [4,4]. Only 4 predictions are class 2. It is reasonable result for the split. Because when tree find the best feature and split from this dataset, feature 1 has many more than feature 2. When we create a threthold value and make a split. Feature 1 has a larger region than feature 2. [4,4] is easily to drop in feature 1 area. \n"
   ]
  },
  {
   "cell_type": "code",
   "execution_count": 33,
   "id": "cc1c5c72",
   "metadata": {},
   "outputs": [
    {
     "name": "stdout",
     "output_type": "stream",
     "text": [
      "The random forest final predication is [0.0]\n",
      "The random forest, each tree's decision are [[0.0, 0.0, 0.0, 0.0, 0.0, 0.0, 0.0, 0.0, 0.0, 0.0]] in here 1 represent class 2 and 0 represent class 1\n"
     ]
    }
   ],
   "source": [
    "# part 1\n",
    "random.seed(1)\n",
    "np.random.seed(1)\n",
    "train=correct_data\n",
    "train_x,train_y=get_xy(train)\n",
    "train_numpy=np.concatenate((train_x, train_y.reshape(1, -1).T), axis=1)\n",
    "test=[[4,4,2]] # I random give a label for this point, but it will not affect our prediction, we only need [4,4] for prediction\n",
    "test=pd.DataFrame(test,columns=[\"feature 1\",\"feature 2\",\"result\"])\n",
    "test_x,test_y=get_xy(test)\n",
    "test_numpy=np.concatenate((test_x, test_y.reshape(1, -1).T), axis=1)\n",
    "ans=random_forest(train_numpy,test_numpy,max_depth=2, min_size=2, n_features=2,sample_frac=1,n_trees=10)\n",
    "print(\"The random forest final predication is\",ans[0])\n",
    "print(\"The random forest, each tree's decision are\",ans[1],\"in here 1 represent class 2 and 0 represent class 1\")"
   ]
  },
  {
   "cell_type": "code",
   "execution_count": 32,
   "id": "465ea317",
   "metadata": {},
   "outputs": [
    {
     "name": "stdout",
     "output_type": "stream",
     "text": [
      "The 20 trees decision are [0.0]\n",
      "The 20 trees decision are [[0.0, 0.0, 0.0, 0.0, 0.0, 0.0, 0.0, 0.0, 0.0, 0.0, 0.0, 0.0, 1.0, 0.0, 1.0, 1.0, 0.0, 1.0, 0.0, 0.0]] in here 1 represent class 2 and 0 represent class 1\n"
     ]
    }
   ],
   "source": [
    "#### part 2\n",
    "random.seed(1)\n",
    "np.random.seed(1)\n",
    "\n",
    "train=correct_data\n",
    "train_x,train_y=get_xy(train)\n",
    "train_numpy=np.concatenate((train_x, train_y.reshape(1, -1).T), axis=1)\n",
    "test=[[4,4,2]] # I random give a label for this point, but it will not affect our prediction, we only need [4,4] for prediction\n",
    "test=pd.DataFrame(test,columns=[\"feature 1\",\"feature 2\",\"result\"])\n",
    "test_x,test_y=get_xy(test)\n",
    "test_numpy=np.concatenate((test_x, test_y.reshape(1, -1).T), axis=1)\n",
    "\n",
    "ans2=random_forest(train_numpy,test_numpy,max_depth=2, min_size=2, n_features=2,sample_frac=(12/17),n_trees=20)\n",
    "print(\"The 20 trees decision are\",ans2[0])\n",
    "print(\"The 20 trees decision are\",ans2[1],\"in here 1 represent class 2 and 0 represent class 1\")"
   ]
  },
  {
   "cell_type": "code",
   "execution_count": 56,
   "id": "5e5fe1d1",
   "metadata": {},
   "outputs": [
    {
     "name": "stdout",
     "output_type": "stream",
     "text": [
      "[0 0 0 0 0 0 0 0 0 0 0 0 0 0 1 1 1]\n",
      "    Feature 1  Feature 2  Class/Cluster\n",
      "0       0.020   0.000000              1\n",
      "1       1.045   0.000000              1\n",
      "2       2.080   0.000000              1\n",
      "3       3.125   0.000000              1\n",
      "4       4.180   0.000000              1\n",
      "5       5.245   0.000000              1\n",
      "6       6.320   0.000000              1\n",
      "7       7.405   0.000000              1\n",
      "8       8.500   0.000000              1\n",
      "9       9.605   0.000000              1\n",
      "10      0.000   1.005000              1\n",
      "11      0.000   2.042871              1\n",
      "12      0.000   3.150677              1\n",
      "13      0.000   4.367583              1\n",
      "14      3.000   1.629463              2\n",
      "15      3.000   2.268944              2\n",
      "16      3.000   2.923104              2\n"
     ]
    }
   ],
   "source": [
    "# we can see the lable of class 1 and class 2 are 0 and 1. \n",
    "y=correct_data.iloc[:,-1]\n",
    "le = LabelEncoder() # label transformation into 1 or 0, 1 represent class 2 and 0 represent class 1\n",
    "y = le.fit_transform(y)\n",
    "print(y)\n",
    "print(correct_data)"
   ]
  },
  {
   "cell_type": "code",
   "execution_count": 49,
   "id": "dbfc8caf",
   "metadata": {},
   "outputs": [
    {
     "name": "stderr",
     "output_type": "stream",
     "text": [
      "D:\\Anaconda\\lib\\site-packages\\sklearn\\base.py:450: UserWarning: X does not have valid feature names, but RandomForestClassifier was fitted with feature names\n",
      "  warnings.warn(\n",
      "D:\\Anaconda\\lib\\site-packages\\sklearn\\base.py:450: UserWarning: X does not have valid feature names, but RandomForestClassifier was fitted with feature names\n",
      "  warnings.warn(\n"
     ]
    },
    {
     "data": {
      "text/plain": [
       "array([0], dtype=int64)"
      ]
     },
     "execution_count": 49,
     "metadata": {},
     "output_type": "execute_result"
    }
   ],
   "source": [
    "# use sklearn.ensemble package to do predition for datapoint [4,4], result is class 1\n",
    "from sklearn.ensemble import RandomForestClassifier\n",
    "random.seed(1)\n",
    "np.random.seed(1)\n",
    "correct_data=pd.read_csv('implementation_correctness_dataset.csv')\n",
    "clf = RandomForestClassifier(n_jobs=2,criterion='entropy',n_estimators=2)\n",
    "y, label = pd.factorize(correct_data['Class/Cluster'])\n",
    "features=[\"Feature 1\",\"Feature 2\"]\n",
    "clf.fit(correct_data[features], y)\n",
    "valid=[[4,4]]\n",
    "valid=pd.DataFrame(valid)\n",
    "preds = label[clf.predict(valid)]\n",
    "clf.predict(valid)"
   ]
  },
  {
   "cell_type": "markdown",
   "id": "d707bd2f",
   "metadata": {},
   "source": [
    "# Reference\n",
    "Dadecic, D. (2021, July 5). Master Machine Learning: Random Forest from Scratch with Python. Towards Data Science. https://towardsdatascience.com/master-machine-learning-random-forest-from-scratch-with-python-3efdd51b6d7a\n",
    "\n",
    "Brownlee, J. (2019, March 25). How to Implement Random Forest From Scratch in Python. Machine Learning Mastery. https://machinelearningmastery.com/implement-random-forest-scratch-python/"
   ]
  }
 ],
 "metadata": {
  "kernelspec": {
   "display_name": "Python 3 (ipykernel)",
   "language": "python",
   "name": "python3"
  },
  "language_info": {
   "codemirror_mode": {
    "name": "ipython",
    "version": 3
   },
   "file_extension": ".py",
   "mimetype": "text/x-python",
   "name": "python",
   "nbconvert_exporter": "python",
   "pygments_lexer": "ipython3",
   "version": "3.9.13"
  }
 },
 "nbformat": 4,
 "nbformat_minor": 5
}
